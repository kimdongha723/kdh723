{
  "nbformat": 4,
  "nbformat_minor": 0,
  "metadata": {
    "colab": {
      "name": "BTC_predict.ipynb",
      "provenance": [],
      "include_colab_link": true
    },
    "kernelspec": {
      "name": "python3",
      "display_name": "Python 3"
    },
    "language_info": {
      "name": "python"
    }
  },
  "cells": [
    {
      "cell_type": "markdown",
      "metadata": {
        "id": "view-in-github",
        "colab_type": "text"
      },
      "source": [
        "<a href=\"https://colab.research.google.com/github/kimdongha723/kdh723/blob/main/BTC_predict.ipynb\" target=\"_parent\"><img src=\"https://colab.research.google.com/assets/colab-badge.svg\" alt=\"Open In Colab\"/></a>"
      ]
    },
    {
      "cell_type": "code",
      "metadata": {
        "id": "HV0SrOgcHMw_",
        "colab": {
          "base_uri": "https://localhost:8080/"
        },
        "outputId": "7af4018f-4336-45c7-9e44-993003c0b440"
      },
      "source": [
        "!pip install pyupbit"
      ],
      "execution_count": 1,
      "outputs": [
        {
          "output_type": "stream",
          "name": "stdout",
          "text": [
            "Looking in indexes: https://pypi.org/simple, https://us-python.pkg.dev/colab-wheels/public/simple/\n",
            "Collecting pyupbit\n",
            "  Downloading pyupbit-0.2.33-py3-none-any.whl (24 kB)\n",
            "Requirement already satisfied: requests in /usr/local/lib/python3.7/dist-packages (from pyupbit) (2.23.0)\n",
            "Collecting websockets\n",
            "  Downloading websockets-10.3-cp37-cp37m-manylinux_2_5_x86_64.manylinux1_x86_64.manylinux_2_12_x86_64.manylinux2010_x86_64.whl (112 kB)\n",
            "\u001b[K     |████████████████████████████████| 112 kB 42.7 MB/s \n",
            "\u001b[?25hRequirement already satisfied: pandas in /usr/local/lib/python3.7/dist-packages (from pyupbit) (1.3.5)\n",
            "Collecting pyjwt>=2.0.0\n",
            "  Downloading PyJWT-2.5.0-py3-none-any.whl (20 kB)\n",
            "Requirement already satisfied: numpy>=1.17.3 in /usr/local/lib/python3.7/dist-packages (from pandas->pyupbit) (1.21.6)\n",
            "Requirement already satisfied: python-dateutil>=2.7.3 in /usr/local/lib/python3.7/dist-packages (from pandas->pyupbit) (2.8.2)\n",
            "Requirement already satisfied: pytz>=2017.3 in /usr/local/lib/python3.7/dist-packages (from pandas->pyupbit) (2022.2.1)\n",
            "Requirement already satisfied: six>=1.5 in /usr/local/lib/python3.7/dist-packages (from python-dateutil>=2.7.3->pandas->pyupbit) (1.15.0)\n",
            "Requirement already satisfied: idna<3,>=2.5 in /usr/local/lib/python3.7/dist-packages (from requests->pyupbit) (2.10)\n",
            "Requirement already satisfied: certifi>=2017.4.17 in /usr/local/lib/python3.7/dist-packages (from requests->pyupbit) (2022.6.15)\n",
            "Requirement already satisfied: urllib3!=1.25.0,!=1.25.1,<1.26,>=1.21.1 in /usr/local/lib/python3.7/dist-packages (from requests->pyupbit) (1.24.3)\n",
            "Requirement already satisfied: chardet<4,>=3.0.2 in /usr/local/lib/python3.7/dist-packages (from requests->pyupbit) (3.0.4)\n",
            "Installing collected packages: websockets, pyjwt, pyupbit\n",
            "Successfully installed pyjwt-2.5.0 pyupbit-0.2.33 websockets-10.3\n"
          ]
        }
      ]
    },
    {
      "cell_type": "code",
      "source": [
        "!pip install pystan~=2.14\n",
        "!pip install fbprophet"
      ],
      "metadata": {
        "id": "E49w9xSg2FHM",
        "outputId": "7f99fc8d-0b47-49d2-c48f-af475e96be0d",
        "colab": {
          "base_uri": "https://localhost:8080/"
        }
      },
      "execution_count": 2,
      "outputs": [
        {
          "output_type": "stream",
          "name": "stdout",
          "text": [
            "Looking in indexes: https://pypi.org/simple, https://us-python.pkg.dev/colab-wheels/public/simple/\n",
            "Collecting pystan~=2.14\n",
            "  Downloading pystan-2.19.1.1-cp37-cp37m-manylinux1_x86_64.whl (67.3 MB)\n",
            "\u001b[K     |████████████████████████████████| 67.3 MB 122 kB/s \n",
            "\u001b[?25hRequirement already satisfied: numpy>=1.7 in /usr/local/lib/python3.7/dist-packages (from pystan~=2.14) (1.21.6)\n",
            "Requirement already satisfied: Cython!=0.25.1,>=0.22 in /usr/local/lib/python3.7/dist-packages (from pystan~=2.14) (0.29.32)\n",
            "Installing collected packages: pystan\n",
            "  Attempting uninstall: pystan\n",
            "    Found existing installation: pystan 3.3.0\n",
            "    Uninstalling pystan-3.3.0:\n",
            "      Successfully uninstalled pystan-3.3.0\n",
            "Successfully installed pystan-2.19.1.1\n",
            "Looking in indexes: https://pypi.org/simple, https://us-python.pkg.dev/colab-wheels/public/simple/\n",
            "Collecting fbprophet\n",
            "  Downloading fbprophet-0.7.1.tar.gz (64 kB)\n",
            "\u001b[K     |████████████████████████████████| 64 kB 2.4 MB/s \n",
            "\u001b[?25hRequirement already satisfied: Cython>=0.22 in /usr/local/lib/python3.7/dist-packages (from fbprophet) (0.29.32)\n",
            "Collecting cmdstanpy==0.9.5\n",
            "  Downloading cmdstanpy-0.9.5-py3-none-any.whl (37 kB)\n",
            "Requirement already satisfied: pystan>=2.14 in /usr/local/lib/python3.7/dist-packages (from fbprophet) (2.19.1.1)\n",
            "Requirement already satisfied: numpy>=1.15.4 in /usr/local/lib/python3.7/dist-packages (from fbprophet) (1.21.6)\n",
            "Requirement already satisfied: pandas>=1.0.4 in /usr/local/lib/python3.7/dist-packages (from fbprophet) (1.3.5)\n",
            "Requirement already satisfied: matplotlib>=2.0.0 in /usr/local/lib/python3.7/dist-packages (from fbprophet) (3.2.2)\n",
            "Requirement already satisfied: LunarCalendar>=0.0.9 in /usr/local/lib/python3.7/dist-packages (from fbprophet) (0.0.9)\n",
            "Requirement already satisfied: convertdate>=2.1.2 in /usr/local/lib/python3.7/dist-packages (from fbprophet) (2.4.0)\n",
            "Requirement already satisfied: holidays>=0.10.2 in /usr/local/lib/python3.7/dist-packages (from fbprophet) (0.15)\n",
            "Requirement already satisfied: setuptools-git>=1.2 in /usr/local/lib/python3.7/dist-packages (from fbprophet) (1.2)\n",
            "Requirement already satisfied: python-dateutil>=2.8.0 in /usr/local/lib/python3.7/dist-packages (from fbprophet) (2.8.2)\n",
            "Requirement already satisfied: tqdm>=4.36.1 in /usr/local/lib/python3.7/dist-packages (from fbprophet) (4.64.1)\n",
            "Requirement already satisfied: pymeeus<=1,>=0.3.13 in /usr/local/lib/python3.7/dist-packages (from convertdate>=2.1.2->fbprophet) (0.5.11)\n",
            "Requirement already satisfied: hijri-converter in /usr/local/lib/python3.7/dist-packages (from holidays>=0.10.2->fbprophet) (2.2.4)\n",
            "Requirement already satisfied: korean-lunar-calendar in /usr/local/lib/python3.7/dist-packages (from holidays>=0.10.2->fbprophet) (0.2.1)\n",
            "Requirement already satisfied: ephem>=3.7.5.3 in /usr/local/lib/python3.7/dist-packages (from LunarCalendar>=0.0.9->fbprophet) (4.1.3)\n",
            "Requirement already satisfied: pytz in /usr/local/lib/python3.7/dist-packages (from LunarCalendar>=0.0.9->fbprophet) (2022.2.1)\n",
            "Requirement already satisfied: pyparsing!=2.0.4,!=2.1.2,!=2.1.6,>=2.0.1 in /usr/local/lib/python3.7/dist-packages (from matplotlib>=2.0.0->fbprophet) (3.0.9)\n",
            "Requirement already satisfied: kiwisolver>=1.0.1 in /usr/local/lib/python3.7/dist-packages (from matplotlib>=2.0.0->fbprophet) (1.4.4)\n",
            "Requirement already satisfied: cycler>=0.10 in /usr/local/lib/python3.7/dist-packages (from matplotlib>=2.0.0->fbprophet) (0.11.0)\n",
            "Requirement already satisfied: typing-extensions in /usr/local/lib/python3.7/dist-packages (from kiwisolver>=1.0.1->matplotlib>=2.0.0->fbprophet) (4.1.1)\n",
            "Requirement already satisfied: six>=1.5 in /usr/local/lib/python3.7/dist-packages (from python-dateutil>=2.8.0->fbprophet) (1.15.0)\n",
            "Building wheels for collected packages: fbprophet\n",
            "  Building wheel for fbprophet (setup.py) ... \u001b[?25l\u001b[?25hdone\n",
            "  Created wheel for fbprophet: filename=fbprophet-0.7.1-py3-none-any.whl size=6638392 sha256=169a2d9ad289f6d607dbeddae52a78948f1ad1826874cb0e379ae3a9e20c545c\n",
            "  Stored in directory: /root/.cache/pip/wheels/cd/a1/12/db63ff624de492fe6cccf676091a0860fdde2ffde4bc3280e2\n",
            "Successfully built fbprophet\n",
            "Installing collected packages: cmdstanpy, fbprophet\n",
            "  Attempting uninstall: cmdstanpy\n",
            "    Found existing installation: cmdstanpy 1.0.7\n",
            "    Uninstalling cmdstanpy-1.0.7:\n",
            "      Successfully uninstalled cmdstanpy-1.0.7\n",
            "\u001b[31mERROR: pip's dependency resolver does not currently take into account all the packages that are installed. This behaviour is the source of the following dependency conflicts.\n",
            "prophet 1.1 requires cmdstanpy>=1.0.1, but you have cmdstanpy 0.9.5 which is incompatible.\u001b[0m\n",
            "Successfully installed cmdstanpy-0.9.5 fbprophet-0.7.1\n"
          ]
        }
      ]
    },
    {
      "cell_type": "code",
      "metadata": {
        "id": "OPo1hQ62HcxA"
      },
      "source": [
        "import pyupbit"
      ],
      "execution_count": 3,
      "outputs": []
    },
    {
      "cell_type": "code",
      "metadata": {
        "colab": {
          "base_uri": "https://localhost:8080/",
          "height": 419
        },
        "id": "sjI3ac9tT7D2",
        "outputId": "0fd6edcb-7e99-4bf4-e5cd-d250f4fbfcd1"
      },
      "source": [
        "#BTC 최근 200시간의 데이터 불러옴\n",
        "df = pyupbit.get_ohlcv(\"Krw-iq\", interval=\"minute30\")\n",
        "df"
      ],
      "execution_count": 4,
      "outputs": [
        {
          "output_type": "execute_result",
          "data": {
            "text/plain": [
              "                     open  high   low  close        volume         value\n",
              "2022-09-16 16:15:00  7.42  7.44  7.42   7.43  1.229105e+06  9.123834e+06\n",
              "2022-09-16 16:30:00  7.43  7.43  7.41   7.43  1.068745e+06  7.927555e+06\n",
              "2022-09-16 16:45:00  7.43  7.43  7.41   7.42  3.077697e+06  2.281892e+07\n",
              "2022-09-16 17:00:00  7.42  7.42  7.40   7.40  7.754643e+06  5.740712e+07\n",
              "2022-09-16 17:15:00  7.40  7.42  7.35   7.36  1.410147e+07  1.040359e+08\n",
              "...                   ...   ...   ...    ...           ...           ...\n",
              "2022-09-18 17:00:00  8.18  8.18  8.14   8.16  3.291734e+07  2.684946e+08\n",
              "2022-09-18 17:15:00  8.17  8.23  8.15   8.23  3.910159e+07  3.200101e+08\n",
              "2022-09-18 17:30:00  8.22  8.26  8.19   8.20  5.656321e+07  4.650352e+08\n",
              "2022-09-18 17:45:00  8.20  8.21  8.16   8.17  2.647899e+07  2.165852e+08\n",
              "2022-09-18 18:00:00  8.20  8.29  8.17   8.22  5.182360e+07  4.274974e+08\n",
              "\n",
              "[200 rows x 6 columns]"
            ],
            "text/html": [
              "\n",
              "  <div id=\"df-5a785c01-fcf9-4cf5-abed-a2045ec1d7d4\">\n",
              "    <div class=\"colab-df-container\">\n",
              "      <div>\n",
              "<style scoped>\n",
              "    .dataframe tbody tr th:only-of-type {\n",
              "        vertical-align: middle;\n",
              "    }\n",
              "\n",
              "    .dataframe tbody tr th {\n",
              "        vertical-align: top;\n",
              "    }\n",
              "\n",
              "    .dataframe thead th {\n",
              "        text-align: right;\n",
              "    }\n",
              "</style>\n",
              "<table border=\"1\" class=\"dataframe\">\n",
              "  <thead>\n",
              "    <tr style=\"text-align: right;\">\n",
              "      <th></th>\n",
              "      <th>open</th>\n",
              "      <th>high</th>\n",
              "      <th>low</th>\n",
              "      <th>close</th>\n",
              "      <th>volume</th>\n",
              "      <th>value</th>\n",
              "    </tr>\n",
              "  </thead>\n",
              "  <tbody>\n",
              "    <tr>\n",
              "      <th>2022-09-16 16:15:00</th>\n",
              "      <td>7.42</td>\n",
              "      <td>7.44</td>\n",
              "      <td>7.42</td>\n",
              "      <td>7.43</td>\n",
              "      <td>1.229105e+06</td>\n",
              "      <td>9.123834e+06</td>\n",
              "    </tr>\n",
              "    <tr>\n",
              "      <th>2022-09-16 16:30:00</th>\n",
              "      <td>7.43</td>\n",
              "      <td>7.43</td>\n",
              "      <td>7.41</td>\n",
              "      <td>7.43</td>\n",
              "      <td>1.068745e+06</td>\n",
              "      <td>7.927555e+06</td>\n",
              "    </tr>\n",
              "    <tr>\n",
              "      <th>2022-09-16 16:45:00</th>\n",
              "      <td>7.43</td>\n",
              "      <td>7.43</td>\n",
              "      <td>7.41</td>\n",
              "      <td>7.42</td>\n",
              "      <td>3.077697e+06</td>\n",
              "      <td>2.281892e+07</td>\n",
              "    </tr>\n",
              "    <tr>\n",
              "      <th>2022-09-16 17:00:00</th>\n",
              "      <td>7.42</td>\n",
              "      <td>7.42</td>\n",
              "      <td>7.40</td>\n",
              "      <td>7.40</td>\n",
              "      <td>7.754643e+06</td>\n",
              "      <td>5.740712e+07</td>\n",
              "    </tr>\n",
              "    <tr>\n",
              "      <th>2022-09-16 17:15:00</th>\n",
              "      <td>7.40</td>\n",
              "      <td>7.42</td>\n",
              "      <td>7.35</td>\n",
              "      <td>7.36</td>\n",
              "      <td>1.410147e+07</td>\n",
              "      <td>1.040359e+08</td>\n",
              "    </tr>\n",
              "    <tr>\n",
              "      <th>...</th>\n",
              "      <td>...</td>\n",
              "      <td>...</td>\n",
              "      <td>...</td>\n",
              "      <td>...</td>\n",
              "      <td>...</td>\n",
              "      <td>...</td>\n",
              "    </tr>\n",
              "    <tr>\n",
              "      <th>2022-09-18 17:00:00</th>\n",
              "      <td>8.18</td>\n",
              "      <td>8.18</td>\n",
              "      <td>8.14</td>\n",
              "      <td>8.16</td>\n",
              "      <td>3.291734e+07</td>\n",
              "      <td>2.684946e+08</td>\n",
              "    </tr>\n",
              "    <tr>\n",
              "      <th>2022-09-18 17:15:00</th>\n",
              "      <td>8.17</td>\n",
              "      <td>8.23</td>\n",
              "      <td>8.15</td>\n",
              "      <td>8.23</td>\n",
              "      <td>3.910159e+07</td>\n",
              "      <td>3.200101e+08</td>\n",
              "    </tr>\n",
              "    <tr>\n",
              "      <th>2022-09-18 17:30:00</th>\n",
              "      <td>8.22</td>\n",
              "      <td>8.26</td>\n",
              "      <td>8.19</td>\n",
              "      <td>8.20</td>\n",
              "      <td>5.656321e+07</td>\n",
              "      <td>4.650352e+08</td>\n",
              "    </tr>\n",
              "    <tr>\n",
              "      <th>2022-09-18 17:45:00</th>\n",
              "      <td>8.20</td>\n",
              "      <td>8.21</td>\n",
              "      <td>8.16</td>\n",
              "      <td>8.17</td>\n",
              "      <td>2.647899e+07</td>\n",
              "      <td>2.165852e+08</td>\n",
              "    </tr>\n",
              "    <tr>\n",
              "      <th>2022-09-18 18:00:00</th>\n",
              "      <td>8.20</td>\n",
              "      <td>8.29</td>\n",
              "      <td>8.17</td>\n",
              "      <td>8.22</td>\n",
              "      <td>5.182360e+07</td>\n",
              "      <td>4.274974e+08</td>\n",
              "    </tr>\n",
              "  </tbody>\n",
              "</table>\n",
              "<p>200 rows × 6 columns</p>\n",
              "</div>\n",
              "      <button class=\"colab-df-convert\" onclick=\"convertToInteractive('df-5a785c01-fcf9-4cf5-abed-a2045ec1d7d4')\"\n",
              "              title=\"Convert this dataframe to an interactive table.\"\n",
              "              style=\"display:none;\">\n",
              "        \n",
              "  <svg xmlns=\"http://www.w3.org/2000/svg\" height=\"24px\"viewBox=\"0 0 24 24\"\n",
              "       width=\"24px\">\n",
              "    <path d=\"M0 0h24v24H0V0z\" fill=\"none\"/>\n",
              "    <path d=\"M18.56 5.44l.94 2.06.94-2.06 2.06-.94-2.06-.94-.94-2.06-.94 2.06-2.06.94zm-11 1L8.5 8.5l.94-2.06 2.06-.94-2.06-.94L8.5 2.5l-.94 2.06-2.06.94zm10 10l.94 2.06.94-2.06 2.06-.94-2.06-.94-.94-2.06-.94 2.06-2.06.94z\"/><path d=\"M17.41 7.96l-1.37-1.37c-.4-.4-.92-.59-1.43-.59-.52 0-1.04.2-1.43.59L10.3 9.45l-7.72 7.72c-.78.78-.78 2.05 0 2.83L4 21.41c.39.39.9.59 1.41.59.51 0 1.02-.2 1.41-.59l7.78-7.78 2.81-2.81c.8-.78.8-2.07 0-2.86zM5.41 20L4 18.59l7.72-7.72 1.47 1.35L5.41 20z\"/>\n",
              "  </svg>\n",
              "      </button>\n",
              "      \n",
              "  <style>\n",
              "    .colab-df-container {\n",
              "      display:flex;\n",
              "      flex-wrap:wrap;\n",
              "      gap: 12px;\n",
              "    }\n",
              "\n",
              "    .colab-df-convert {\n",
              "      background-color: #E8F0FE;\n",
              "      border: none;\n",
              "      border-radius: 50%;\n",
              "      cursor: pointer;\n",
              "      display: none;\n",
              "      fill: #1967D2;\n",
              "      height: 32px;\n",
              "      padding: 0 0 0 0;\n",
              "      width: 32px;\n",
              "    }\n",
              "\n",
              "    .colab-df-convert:hover {\n",
              "      background-color: #E2EBFA;\n",
              "      box-shadow: 0px 1px 2px rgba(60, 64, 67, 0.3), 0px 1px 3px 1px rgba(60, 64, 67, 0.15);\n",
              "      fill: #174EA6;\n",
              "    }\n",
              "\n",
              "    [theme=dark] .colab-df-convert {\n",
              "      background-color: #3B4455;\n",
              "      fill: #D2E3FC;\n",
              "    }\n",
              "\n",
              "    [theme=dark] .colab-df-convert:hover {\n",
              "      background-color: #434B5C;\n",
              "      box-shadow: 0px 1px 3px 1px rgba(0, 0, 0, 0.15);\n",
              "      filter: drop-shadow(0px 1px 2px rgba(0, 0, 0, 0.3));\n",
              "      fill: #FFFFFF;\n",
              "    }\n",
              "  </style>\n",
              "\n",
              "      <script>\n",
              "        const buttonEl =\n",
              "          document.querySelector('#df-5a785c01-fcf9-4cf5-abed-a2045ec1d7d4 button.colab-df-convert');\n",
              "        buttonEl.style.display =\n",
              "          google.colab.kernel.accessAllowed ? 'block' : 'none';\n",
              "\n",
              "        async function convertToInteractive(key) {\n",
              "          const element = document.querySelector('#df-5a785c01-fcf9-4cf5-abed-a2045ec1d7d4');\n",
              "          const dataTable =\n",
              "            await google.colab.kernel.invokeFunction('convertToInteractive',\n",
              "                                                     [key], {});\n",
              "          if (!dataTable) return;\n",
              "\n",
              "          const docLinkHtml = 'Like what you see? Visit the ' +\n",
              "            '<a target=\"_blank\" href=https://colab.research.google.com/notebooks/data_table.ipynb>data table notebook</a>'\n",
              "            + ' to learn more about interactive tables.';\n",
              "          element.innerHTML = '';\n",
              "          dataTable['output_type'] = 'display_data';\n",
              "          await google.colab.output.renderOutput(dataTable, element);\n",
              "          const docLink = document.createElement('div');\n",
              "          docLink.innerHTML = docLinkHtml;\n",
              "          element.appendChild(docLink);\n",
              "        }\n",
              "      </script>\n",
              "    </div>\n",
              "  </div>\n",
              "  "
            ]
          },
          "metadata": {},
          "execution_count": 4
        }
      ]
    },
    {
      "cell_type": "code",
      "metadata": {
        "colab": {
          "base_uri": "https://localhost:8080/",
          "height": 419
        },
        "id": "eDaG0GWkVO3N",
        "outputId": "66426cb2-09f2-4f01-d14e-bde1adea9e7e"
      },
      "source": [
        "#시간(ds)와 종가(y)값만 남김\n",
        "df = df.reset_index()\n",
        "df['ds'] = df['index']\n",
        "df['y'] = df['close']\n",
        "data = df[['ds','y']]\n",
        "data"
      ],
      "execution_count": 5,
      "outputs": [
        {
          "output_type": "execute_result",
          "data": {
            "text/plain": [
              "                     ds     y\n",
              "0   2022-09-16 16:15:00  7.43\n",
              "1   2022-09-16 16:30:00  7.43\n",
              "2   2022-09-16 16:45:00  7.42\n",
              "3   2022-09-16 17:00:00  7.40\n",
              "4   2022-09-16 17:15:00  7.36\n",
              "..                  ...   ...\n",
              "195 2022-09-18 17:00:00  8.16\n",
              "196 2022-09-18 17:15:00  8.23\n",
              "197 2022-09-18 17:30:00  8.20\n",
              "198 2022-09-18 17:45:00  8.17\n",
              "199 2022-09-18 18:00:00  8.22\n",
              "\n",
              "[200 rows x 2 columns]"
            ],
            "text/html": [
              "\n",
              "  <div id=\"df-3552b5f2-ba62-4c14-a413-4f13324a9ca1\">\n",
              "    <div class=\"colab-df-container\">\n",
              "      <div>\n",
              "<style scoped>\n",
              "    .dataframe tbody tr th:only-of-type {\n",
              "        vertical-align: middle;\n",
              "    }\n",
              "\n",
              "    .dataframe tbody tr th {\n",
              "        vertical-align: top;\n",
              "    }\n",
              "\n",
              "    .dataframe thead th {\n",
              "        text-align: right;\n",
              "    }\n",
              "</style>\n",
              "<table border=\"1\" class=\"dataframe\">\n",
              "  <thead>\n",
              "    <tr style=\"text-align: right;\">\n",
              "      <th></th>\n",
              "      <th>ds</th>\n",
              "      <th>y</th>\n",
              "    </tr>\n",
              "  </thead>\n",
              "  <tbody>\n",
              "    <tr>\n",
              "      <th>0</th>\n",
              "      <td>2022-09-16 16:15:00</td>\n",
              "      <td>7.43</td>\n",
              "    </tr>\n",
              "    <tr>\n",
              "      <th>1</th>\n",
              "      <td>2022-09-16 16:30:00</td>\n",
              "      <td>7.43</td>\n",
              "    </tr>\n",
              "    <tr>\n",
              "      <th>2</th>\n",
              "      <td>2022-09-16 16:45:00</td>\n",
              "      <td>7.42</td>\n",
              "    </tr>\n",
              "    <tr>\n",
              "      <th>3</th>\n",
              "      <td>2022-09-16 17:00:00</td>\n",
              "      <td>7.40</td>\n",
              "    </tr>\n",
              "    <tr>\n",
              "      <th>4</th>\n",
              "      <td>2022-09-16 17:15:00</td>\n",
              "      <td>7.36</td>\n",
              "    </tr>\n",
              "    <tr>\n",
              "      <th>...</th>\n",
              "      <td>...</td>\n",
              "      <td>...</td>\n",
              "    </tr>\n",
              "    <tr>\n",
              "      <th>195</th>\n",
              "      <td>2022-09-18 17:00:00</td>\n",
              "      <td>8.16</td>\n",
              "    </tr>\n",
              "    <tr>\n",
              "      <th>196</th>\n",
              "      <td>2022-09-18 17:15:00</td>\n",
              "      <td>8.23</td>\n",
              "    </tr>\n",
              "    <tr>\n",
              "      <th>197</th>\n",
              "      <td>2022-09-18 17:30:00</td>\n",
              "      <td>8.20</td>\n",
              "    </tr>\n",
              "    <tr>\n",
              "      <th>198</th>\n",
              "      <td>2022-09-18 17:45:00</td>\n",
              "      <td>8.17</td>\n",
              "    </tr>\n",
              "    <tr>\n",
              "      <th>199</th>\n",
              "      <td>2022-09-18 18:00:00</td>\n",
              "      <td>8.22</td>\n",
              "    </tr>\n",
              "  </tbody>\n",
              "</table>\n",
              "<p>200 rows × 2 columns</p>\n",
              "</div>\n",
              "      <button class=\"colab-df-convert\" onclick=\"convertToInteractive('df-3552b5f2-ba62-4c14-a413-4f13324a9ca1')\"\n",
              "              title=\"Convert this dataframe to an interactive table.\"\n",
              "              style=\"display:none;\">\n",
              "        \n",
              "  <svg xmlns=\"http://www.w3.org/2000/svg\" height=\"24px\"viewBox=\"0 0 24 24\"\n",
              "       width=\"24px\">\n",
              "    <path d=\"M0 0h24v24H0V0z\" fill=\"none\"/>\n",
              "    <path d=\"M18.56 5.44l.94 2.06.94-2.06 2.06-.94-2.06-.94-.94-2.06-.94 2.06-2.06.94zm-11 1L8.5 8.5l.94-2.06 2.06-.94-2.06-.94L8.5 2.5l-.94 2.06-2.06.94zm10 10l.94 2.06.94-2.06 2.06-.94-2.06-.94-.94-2.06-.94 2.06-2.06.94z\"/><path d=\"M17.41 7.96l-1.37-1.37c-.4-.4-.92-.59-1.43-.59-.52 0-1.04.2-1.43.59L10.3 9.45l-7.72 7.72c-.78.78-.78 2.05 0 2.83L4 21.41c.39.39.9.59 1.41.59.51 0 1.02-.2 1.41-.59l7.78-7.78 2.81-2.81c.8-.78.8-2.07 0-2.86zM5.41 20L4 18.59l7.72-7.72 1.47 1.35L5.41 20z\"/>\n",
              "  </svg>\n",
              "      </button>\n",
              "      \n",
              "  <style>\n",
              "    .colab-df-container {\n",
              "      display:flex;\n",
              "      flex-wrap:wrap;\n",
              "      gap: 12px;\n",
              "    }\n",
              "\n",
              "    .colab-df-convert {\n",
              "      background-color: #E8F0FE;\n",
              "      border: none;\n",
              "      border-radius: 50%;\n",
              "      cursor: pointer;\n",
              "      display: none;\n",
              "      fill: #1967D2;\n",
              "      height: 32px;\n",
              "      padding: 0 0 0 0;\n",
              "      width: 32px;\n",
              "    }\n",
              "\n",
              "    .colab-df-convert:hover {\n",
              "      background-color: #E2EBFA;\n",
              "      box-shadow: 0px 1px 2px rgba(60, 64, 67, 0.3), 0px 1px 3px 1px rgba(60, 64, 67, 0.15);\n",
              "      fill: #174EA6;\n",
              "    }\n",
              "\n",
              "    [theme=dark] .colab-df-convert {\n",
              "      background-color: #3B4455;\n",
              "      fill: #D2E3FC;\n",
              "    }\n",
              "\n",
              "    [theme=dark] .colab-df-convert:hover {\n",
              "      background-color: #434B5C;\n",
              "      box-shadow: 0px 1px 3px 1px rgba(0, 0, 0, 0.15);\n",
              "      filter: drop-shadow(0px 1px 2px rgba(0, 0, 0, 0.3));\n",
              "      fill: #FFFFFF;\n",
              "    }\n",
              "  </style>\n",
              "\n",
              "      <script>\n",
              "        const buttonEl =\n",
              "          document.querySelector('#df-3552b5f2-ba62-4c14-a413-4f13324a9ca1 button.colab-df-convert');\n",
              "        buttonEl.style.display =\n",
              "          google.colab.kernel.accessAllowed ? 'block' : 'none';\n",
              "\n",
              "        async function convertToInteractive(key) {\n",
              "          const element = document.querySelector('#df-3552b5f2-ba62-4c14-a413-4f13324a9ca1');\n",
              "          const dataTable =\n",
              "            await google.colab.kernel.invokeFunction('convertToInteractive',\n",
              "                                                     [key], {});\n",
              "          if (!dataTable) return;\n",
              "\n",
              "          const docLinkHtml = 'Like what you see? Visit the ' +\n",
              "            '<a target=\"_blank\" href=https://colab.research.google.com/notebooks/data_table.ipynb>data table notebook</a>'\n",
              "            + ' to learn more about interactive tables.';\n",
              "          element.innerHTML = '';\n",
              "          dataTable['output_type'] = 'display_data';\n",
              "          await google.colab.output.renderOutput(dataTable, element);\n",
              "          const docLink = document.createElement('div');\n",
              "          docLink.innerHTML = docLinkHtml;\n",
              "          element.appendChild(docLink);\n",
              "        }\n",
              "      </script>\n",
              "    </div>\n",
              "  </div>\n",
              "  "
            ]
          },
          "metadata": {},
          "execution_count": 5
        }
      ]
    },
    {
      "cell_type": "code",
      "metadata": {
        "id": "NeNx5_hhXbR1"
      },
      "source": [
        "#prophet 불러옴\n",
        "from fbprophet import Prophet"
      ],
      "execution_count": 6,
      "outputs": []
    },
    {
      "cell_type": "code",
      "metadata": {
        "colab": {
          "base_uri": "https://localhost:8080/"
        },
        "id": "lLe7j7jnVep2",
        "outputId": "ec57554f-d1de-4975-9bd1-04e350deb6ae"
      },
      "source": [
        "#학습\n",
        "model = Prophet()\n",
        "model.fit(data)"
      ],
      "execution_count": 7,
      "outputs": [
        {
          "output_type": "stream",
          "name": "stderr",
          "text": [
            "INFO:fbprophet:Disabling yearly seasonality. Run prophet with yearly_seasonality=True to override this.\n",
            "INFO:fbprophet:Disabling weekly seasonality. Run prophet with weekly_seasonality=True to override this.\n"
          ]
        },
        {
          "output_type": "execute_result",
          "data": {
            "text/plain": [
              "<fbprophet.forecaster.Prophet at 0x7fd7288282d0>"
            ]
          },
          "metadata": {},
          "execution_count": 7
        }
      ]
    },
    {
      "cell_type": "code",
      "metadata": {
        "id": "ylP8nXwEYBxK"
      },
      "source": [
        "#24시간 미래 예측\n",
        "future = model.make_future_dataframe(periods=10, freq='H')\n",
        "forecast = model.predict(future)"
      ],
      "execution_count": 8,
      "outputs": []
    },
    {
      "cell_type": "code",
      "metadata": {
        "colab": {
          "base_uri": "https://localhost:8080/",
          "height": 368
        },
        "id": "_zzI5o0OXN5H",
        "outputId": "a27ada4b-53bb-48a5-fe0b-2fdd084861a4"
      },
      "source": [
        "#그래프1\n",
        "fig1 = model.plot(forecast)"
      ],
      "execution_count": 9,
      "outputs": [
        {
          "output_type": "display_data",
          "data": {
            "text/plain": [
              "<Figure size 720x432 with 1 Axes>"
            ],
            "image/png": "[encoded data removed]"
          },
          "metadata": {}
        }
      ]
    },
    {
      "cell_type": "code",
      "metadata": {
        "colab": {
          "base_uri": "https://localhost:8080/",
          "height": 407
        },
        "id": "DkVLmIsPXOl6",
        "outputId": "b3bb2072-da27-4f04-9b9b-3b334b65f494"
      },
      "source": [
        " #그래프2\n",
        "fig2 = model.plot_components(forecast)"
      ],
      "execution_count": 10,
      "outputs": [
        {
          "output_type": "display_data",
          "data": {
            "text/plain": [
              "<Figure size 648x432 with 2 Axes>"
            ],
            "image/png": "[encoded data removed]"
          },
          "metadata": {}
        }
      ]
    },
    {
      "cell_type": "code",
      "metadata": {
        "id": "JB_UYNJ-uYZr"
      },
      "source": [],
      "execution_count": null,
      "outputs": []
    }
  ]
}